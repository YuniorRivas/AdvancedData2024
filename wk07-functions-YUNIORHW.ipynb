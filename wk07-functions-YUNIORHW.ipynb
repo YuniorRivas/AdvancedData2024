{
 "cells": [
  {
   "cell_type": "markdown",
   "id": "5320cbbf",
   "metadata": {},
   "source": [
    "# Homework for Week 7\n",
    "## Functions and Downloading documents"
   ]
  },
  {
   "cell_type": "markdown",
   "id": "da5db5b3",
   "metadata": {},
   "source": [
    "### Write modular functions for the following:\n",
    "\n",
    "1. Making a ```request```\n",
    "2. Converting a ```response``` into ```soup```\n"
   ]
  },
  {
   "cell_type": "code",
   "execution_count": 37,
   "id": "8b96b6e4",
   "metadata": {},
   "outputs": [],
   "source": [
    "import requests\n",
    "from bs4 import BeautifulSoup\n",
    "import os\n",
    "import time\n",
    "from random import randrange\n",
    "import itertools\n",
    "import wget"
   ]
  },
  {
   "cell_type": "code",
   "execution_count": 38,
   "id": "ed087ffc",
   "metadata": {},
   "outputs": [],
   "source": [
    "def make_requests(url):\n",
    "    response = requests.get(url)\n",
    "    if response.status_code == 200:\n",
    "        return response"
   ]
  },
  {
   "cell_type": "code",
   "execution_count": 39,
   "id": "04531000-316c-4a96-ab9a-668b0f6e6b01",
   "metadata": {},
   "outputs": [],
   "source": [
    "def make_soup(response):\n",
    "    return BeautifulSoup(response.text, 'html.parser')"
   ]
  },
  {
   "cell_type": "markdown",
   "id": "2350b62c",
   "metadata": {},
   "source": [
    "### 3. Demo downloading files from websites \n",
    "\n",
    "There are ```txt``` and ```pdf``` files <a href=\"https://sandeepmj.github.io/scrape-example-page/pages.html\">on this site</a>. During class we downloaded on e set of text files and one set of PDF files.\n",
    "\n",
    "Now download **ALL files at one time**.\n"
   ]
  },
  {
   "cell_type": "code",
   "execution_count": 40,
   "id": "87e10706",
   "metadata": {},
   "outputs": [],
   "source": [
    "url = \"https://sandeepmj.github.io/scrape-example-page/pages.html\""
   ]
  },
  {
   "cell_type": "code",
   "execution_count": 44,
   "id": "356a2441-82d8-4a30-adbd-0e430c2ea8d7",
   "metadata": {},
   "outputs": [],
   "source": [
    "response = make_requests(url)\n",
    "soup = make_soup(response)"
   ]
  },
  {
   "cell_type": "code",
   "execution_count": 45,
   "id": "fe91e621-8856-4173-ad19-7b8beec397af",
   "metadata": {},
   "outputs": [],
   "source": [
    "def make_soup(response):\n",
    "    return BeautifulSoup(response.text, 'html.parser')"
   ]
  },
  {
   "cell_type": "code",
   "execution_count": 46,
   "id": "bbeb7da0-faec-4d6f-8bb8-3e2311bf5cea",
   "metadata": {},
   "outputs": [],
   "source": [
    "all_target = soup.find_all(\"ul\", class_=\"downloadable\")"
   ]
  },
  {
   "cell_type": "code",
   "execution_count": 50,
   "id": "74895608-7312-414d-b07f-8ecec64439f6",
   "metadata": {},
   "outputs": [],
   "source": [
    "aTags = [atag.find_all(\"a\") for atag in all_target]\n",
    "all_aTags = list(itertools.chain(*aTags))"
   ]
  },
  {
   "cell_type": "code",
   "execution_count": 51,
   "id": "c01a5cd6-49ea-4eb4-86b1-7238fa70ad81",
   "metadata": {},
   "outputs": [],
   "source": [
    "base_url = \"https://sandeepmj.github.io/scrape-example-page/\"\n",
    "links = [base_url + atag.get(\"href\") for atag in all_aTags]"
   ]
  },
  {
   "cell_type": "code",
   "execution_count": 52,
   "id": "16cd496e-3089-4189-b04d-0d630ff3a976",
   "metadata": {},
   "outputs": [],
   "source": [
    "def snoozer(start_range, end_range):\n",
    "    snooze_time = randrange(start_range, end_range)\n",
    "    print(f\"\\n Snoozing for {snooze_time} seconds\")\n",
    "    return time.sleep(snooze_time)"
   ]
  },
  {
   "cell_type": "code",
   "execution_count": null,
   "id": "82b9bbda-f22d-4b65-8f59-f33216bd8d9b",
   "metadata": {},
   "outputs": [],
   "source": [
    "link_count = 1\n",
    "start_range, end_range = 4, 8\n",
    "for link in links:\n",
    "    print(f\"Downloading link {link_count} of {len(links)}\")\n",
    "    link_count += 1\n",
    "    wget.download(link)\n",
    "    snoozer(start_range, end_range)\n"
   ]
  }
 ],
 "metadata": {
  "kernelspec": {
   "display_name": "Python 3 (ipykernel)",
   "language": "python",
   "name": "python3"
  },
  "language_info": {
   "codemirror_mode": {
    "name": "ipython",
    "version": 3
   },
   "file_extension": ".py",
   "mimetype": "text/x-python",
   "name": "python",
   "nbconvert_exporter": "python",
   "pygments_lexer": "ipython3",
   "version": "3.12.2"
  }
 },
 "nbformat": 4,
 "nbformat_minor": 5
}
